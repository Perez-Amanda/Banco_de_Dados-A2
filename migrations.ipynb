{
 "cells": [
  {
   "cell_type": "markdown",
   "metadata": {},
   "source": [
    "# Trabalho de Banco de Dados - A2\n",
    "## Análise de dados sobre a antropização de biomas extra-amazônicos \n",
    "> #### Alunos:\n",
    ">\n",
    "> Amanda de Mendonça Perez\n",
    ">\n",
    "> Julia Queiroz Delgado \n",
    ">\n",
    "> Kenner Azevedo "
   ]
  },
  {
   "cell_type": "code",
   "execution_count": 25,
   "metadata": {},
   "outputs": [],
   "source": [
    "#pip install -U -q pymongo"
   ]
  },
  {
   "cell_type": "code",
   "execution_count": 238,
   "metadata": {},
   "outputs": [],
   "source": [
    "import datetime\n",
    "import pprint\n",
    "\n",
    "import pymongo\n",
    "from pymongo import MongoClient\n",
    "\n",
    "import geopandas as gpd\n",
    "import pandas as pd\n",
    "from shapely.geometry import Polygon\n",
    "import matplotlib.pyplot as plt"
   ]
  },
  {
   "cell_type": "code",
   "execution_count": 222,
   "metadata": {},
   "outputs": [
    {
     "data": {
      "text/plain": [
       "['admin', 'bank', 'config', 'local']"
      ]
     },
     "execution_count": 222,
     "metadata": {},
     "output_type": "execute_result"
    }
   ],
   "source": [
    "#connect the database\n",
    "client = MongoClient('localhost', 27017)\n",
    "client.list_database_names()"
   ]
  },
  {
   "cell_type": "code",
   "execution_count": 223,
   "metadata": {},
   "outputs": [],
   "source": [
    "db = client.bank"
   ]
  },
  {
   "cell_type": "code",
   "execution_count": 224,
   "metadata": {},
   "outputs": [
    {
     "name": "stdout",
     "output_type": "stream",
     "text": [
      "['data', 'states']\n"
     ]
    }
   ],
   "source": [
    "#ours collections\n",
    "print(db.list_collection_names())\n",
    "#we want insert data of states with format { \"name\" : Nome_estado , \"valor\" : val}"
   ]
  },
  {
   "cell_type": "code",
   "execution_count": 225,
   "metadata": {},
   "outputs": [],
   "source": [
    "state_s = [{\"name\": \"Acre\",\"value\":12},{\"name\": \"Amazonas\",\"value\":13},{\"name\": \"Amapá\",\"value\":   16},{\"name\": \"Pará\",\n",
    "\"value\":   15},{\"name\": \"Rondônia \",\"value\":   11},{\"name\": \"Roraima\",\"value\":   14},{\"name\": \"Tocantins\",\"value\":   17}\n",
    ",{\"name\": \"Alagoas\",\"value\":   27},{\"name\": \"Bahia\",\"value\":   29},{\"name\": \"Ceará\",\"value\":   23},{\"name\": \"Maranhão\",\n",
    "\"value\":   21},{\"name\": \"Paraíba\",\"value\":   25},{\"name\": \"Pernambuco\",\"value\":   26},{\"name\": \"Piauí\",\"value\":   22},\n",
    "{\"name\": \"Rio Grande do Norte\",\"value\":   24},{\"name\": \"Sergipe\",\"value\":   28},{\"name\": \"Espírito Santo\",\"value\":   32}\n",
    ",{\"name\": \"Minas Gerais\",\"value\":   31},{\"name\": \"Rio de Janeiro\",\"value\":   33},{\"name\": \"São Paulo\",\"value\":   35}\n",
    ",{\"name\": \"Paraná\",\"value\":   41},{\"name\": \"Rio Grande do Sul\",\"value\":   43},{\"name\": \"Santa Catarina\",\"value\":   42}\n",
    ",{\"name\": \"Distrito Federal\",\"value\":   53},{\"name\": \"Goiás\",\"value\":   52},{\"name\": \"Mato Grosso\",\"value\":   51},\n",
    "{\"name\": \"Mato Grosso do Sul\",\"value\":   50}]"
   ]
  },
  {
   "cell_type": "code",
   "execution_count": 226,
   "metadata": {},
   "outputs": [
    {
     "name": "stdout",
     "output_type": "stream",
     "text": [
      "[]\n"
     ]
    }
   ],
   "source": [
    "#insert of states\n",
    "lista_of_ids =[]\n",
    "for state in range(len(state_s)):\n",
    "    if(db.states.find_one(state_s[state])): #verifica se o estado ja existe na nossa base de dados\n",
    "        pass\n",
    "    else:\n",
    "        _id = db.states.insert_one(state_s[state]).inserted_id #vai ficar inserindo varias vezes\n",
    "        index = {'id': _id, \"value\" : state_s[state][\"value\"]}\n",
    "        lista_of_ids.append(index)\n",
    "print(lista_of_ids)"
   ]
  },
  {
   "cell_type": "code",
   "execution_count": 227,
   "metadata": {},
   "outputs": [],
   "source": [
    "import json\n",
    "\n",
    "def read_json(arq_json):\n",
    "    with open(arq_json, 'r', encoding='utf8') as f:\n",
    "        return json.load(f)"
   ]
  },
  {
   "cell_type": "code",
   "execution_count": 234,
   "metadata": {},
   "outputs": [],
   "source": [
    "data = read_json('data_brazilian.json')"
   ]
  },
  {
   "cell_type": "code",
   "execution_count": 229,
   "metadata": {},
   "outputs": [
    {
     "name": "stdout",
     "output_type": "stream",
     "text": [
      "dict_keys(['type', 'features'])\n"
     ]
    }
   ],
   "source": [
    "print(data.keys())"
   ]
  },
  {
   "cell_type": "code",
   "execution_count": 235,
   "metadata": {},
   "outputs": [],
   "source": [
    "#print(data['features'][50])\n",
    "for i in range(len(data['features'])):\n",
    "    if(db.data.find_one(data['features'][i])): #verifica se o estado ja existe na nossa base de dados\n",
    "        pass\n",
    "    else:\n",
    "        _id = db.data.insert_one(data['features'][i]).inserted_id #vai ficar inserindo varias vezes"
   ]
  },
  {
   "cell_type": "code",
   "execution_count": 236,
   "metadata": {},
   "outputs": [
    {
     "name": "stdout",
     "output_type": "stream",
     "text": [
      "['data', 'states']\n",
      "['admin', 'bank', 'config', 'local']\n"
     ]
    }
   ],
   "source": [
    "print(db.list_collection_names())\n",
    "print(client.list_database_names())"
   ]
  },
  {
   "cell_type": "code",
   "execution_count": 237,
   "metadata": {},
   "outputs": [
    {
     "name": "stdout",
     "output_type": "stream",
     "text": [
      "Dados: \n",
      "                         _id     type  \\\n",
      "0  61a18d702ebb3fcebef396df  Feature   \n",
      "1  61a18d702ebb3fcebef396e0  Feature   \n",
      "2  61a18d702ebb3fcebef396e1  Feature   \n",
      "3  61a18d702ebb3fcebef396e2  Feature   \n",
      "4  61a18d702ebb3fcebef396e3  Feature   \n",
      "\n",
      "                                          properties  \\\n",
      "0  {'id': '1100015', 'name': 'Alta Floresta D'Oes...   \n",
      "1  {'id': '1100023', 'name': 'Ariquemes', 'descri...   \n",
      "2  {'id': '1100031', 'name': 'Cabixi', 'descripti...   \n",
      "3  {'id': '1100049', 'name': 'Cacoal', 'descripti...   \n",
      "4  {'id': '1100056', 'name': 'Cerejeiras', 'descr...   \n",
      "\n",
      "                                            geometry  \n",
      "0  {'type': 'Polygon', 'coordinates': [[[-62.1820...  \n",
      "1  {'type': 'Polygon', 'coordinates': [[[-62.5359...  \n",
      "2  {'type': 'Polygon', 'coordinates': [[[-60.3993...  \n",
      "3  {'type': 'Polygon', 'coordinates': [[[-61.0005...  \n",
      "4  {'type': 'Polygon', 'coordinates': [[[-61.5004...   \n",
      " \n",
      "--------------------- \n",
      "\n",
      "Estados:\n",
      "                         _id       name  value\n",
      "0  61a18d5e2ebb3fcebef396c4       Acre     12\n",
      "1  61a18d5e2ebb3fcebef396c5   Amazonas     13\n",
      "2  61a18d5e2ebb3fcebef396c6      Amapá     16\n",
      "3  61a18d5e2ebb3fcebef396c7       Pará     15\n",
      "4  61a18d5e2ebb3fcebef396c8  Rondônia      11\n"
     ]
    }
   ],
   "source": [
    "#Testando o geopandas\n",
    "\n",
    "data, states = db.data, db.states\n",
    "dados = gpd.GeoDataFrame(list(data.find()))\n",
    "\n",
    "dados_json = list(data.find())\n",
    "print('Dados: \\n', dados.head(),'\\n \\n--------------------- \\n\\nEstados:\\n', estados.head())"
   ]
  },
  {
   "cell_type": "code",
   "execution_count": 240,
   "metadata": {},
   "outputs": [
    {
     "name": "stdout",
     "output_type": "stream",
     "text": [
      "        id                   name            description  \\\n",
      "0  1100015  Alta Floresta D'Oeste  Alta Floresta D'Oeste   \n",
      "1  1100023              Ariquemes              Ariquemes   \n",
      "2  1100031                 Cabixi                 Cabixi   \n",
      "3  1100049                 Cacoal                 Cacoal   \n",
      "4  1100056             Cerejeiras             Cerejeiras   \n",
      "\n",
      "                                            geometry  \n",
      "0  POLYGON ((-62.18209 -11.86686, -62.16230 -11.8...  \n",
      "1  POLYGON ((-62.53595 -9.73182, -62.50782 -9.754...  \n",
      "2  POLYGON ((-60.39940 -13.45584, -60.40195 -13.4...  \n",
      "3  POLYGON ((-61.00051 -11.39796, -61.01794 -11.4...  \n",
      "4  POLYGON ((-61.50047 -13.00392, -61.47901 -13.0...  \n"
     ]
    }
   ],
   "source": [
    "parsed_data = [[item['properties']['id'],\n",
    "                item['properties']['name'],\n",
    "                item['properties']['description'],\n",
    "                Polygon(item['geometry']['coordinates'][0])] for item in dados_json]\n",
    "dados = gpd.GeoDataFrame(data=parsed_data, columns=['id', 'name', 'description', 'geometry'])\n",
    "print(dados.head())"
   ]
  },
  {
   "cell_type": "code",
   "execution_count": 241,
   "metadata": {},
   "outputs": [
    {
     "data": {
      "text/html": [
       "<div>\n",
       "<style scoped>\n",
       "    .dataframe tbody tr th:only-of-type {\n",
       "        vertical-align: middle;\n",
       "    }\n",
       "\n",
       "    .dataframe tbody tr th {\n",
       "        vertical-align: top;\n",
       "    }\n",
       "\n",
       "    .dataframe thead th {\n",
       "        text-align: right;\n",
       "    }\n",
       "</style>\n",
       "<table border=\"1\" class=\"dataframe\">\n",
       "  <thead>\n",
       "    <tr style=\"text-align: right;\">\n",
       "      <th></th>\n",
       "      <th>id</th>\n",
       "      <th>name</th>\n",
       "      <th>description</th>\n",
       "      <th>geometry</th>\n",
       "      <th>uf_code</th>\n",
       "    </tr>\n",
       "  </thead>\n",
       "  <tbody>\n",
       "    <tr>\n",
       "      <th>0</th>\n",
       "      <td>1100015</td>\n",
       "      <td>Alta Floresta D'Oeste</td>\n",
       "      <td>Alta Floresta D'Oeste</td>\n",
       "      <td>POLYGON ((-62.18209 -11.86686, -62.16230 -11.8...</td>\n",
       "      <td>11</td>\n",
       "    </tr>\n",
       "    <tr>\n",
       "      <th>1</th>\n",
       "      <td>1100023</td>\n",
       "      <td>Ariquemes</td>\n",
       "      <td>Ariquemes</td>\n",
       "      <td>POLYGON ((-62.53595 -9.73182, -62.50782 -9.754...</td>\n",
       "      <td>11</td>\n",
       "    </tr>\n",
       "    <tr>\n",
       "      <th>2</th>\n",
       "      <td>1100031</td>\n",
       "      <td>Cabixi</td>\n",
       "      <td>Cabixi</td>\n",
       "      <td>POLYGON ((-60.39940 -13.45584, -60.40195 -13.4...</td>\n",
       "      <td>11</td>\n",
       "    </tr>\n",
       "    <tr>\n",
       "      <th>3</th>\n",
       "      <td>1100049</td>\n",
       "      <td>Cacoal</td>\n",
       "      <td>Cacoal</td>\n",
       "      <td>POLYGON ((-61.00051 -11.39796, -61.01794 -11.4...</td>\n",
       "      <td>11</td>\n",
       "    </tr>\n",
       "    <tr>\n",
       "      <th>4</th>\n",
       "      <td>1100056</td>\n",
       "      <td>Cerejeiras</td>\n",
       "      <td>Cerejeiras</td>\n",
       "      <td>POLYGON ((-61.50047 -13.00392, -61.47901 -13.0...</td>\n",
       "      <td>11</td>\n",
       "    </tr>\n",
       "  </tbody>\n",
       "</table>\n",
       "</div>"
      ],
      "text/plain": [
       "        id                   name            description  \\\n",
       "0  1100015  Alta Floresta D'Oeste  Alta Floresta D'Oeste   \n",
       "1  1100023              Ariquemes              Ariquemes   \n",
       "2  1100031                 Cabixi                 Cabixi   \n",
       "3  1100049                 Cacoal                 Cacoal   \n",
       "4  1100056             Cerejeiras             Cerejeiras   \n",
       "\n",
       "                                            geometry uf_code  \n",
       "0  POLYGON ((-62.18209 -11.86686, -62.16230 -11.8...      11  \n",
       "1  POLYGON ((-62.53595 -9.73182, -62.50782 -9.754...      11  \n",
       "2  POLYGON ((-60.39940 -13.45584, -60.40195 -13.4...      11  \n",
       "3  POLYGON ((-61.00051 -11.39796, -61.01794 -11.4...      11  \n",
       "4  POLYGON ((-61.50047 -13.00392, -61.47901 -13.0...      11  "
      ]
     },
     "execution_count": 241,
     "metadata": {},
     "output_type": "execute_result"
    }
   ],
   "source": [
    "dados['uf_code'] = dados['id'].map(str)\n",
    "for i in range (0, dados['id'].size):\n",
    "    dados.loc[i,'uf_code'] = int(dados['uf_code'].iloc[i][:2])\n",
    "dados.head()"
   ]
  },
  {
   "cell_type": "code",
   "execution_count": 283,
   "metadata": {},
   "outputs": [],
   "source": [
    "def plot_map(cor, estado=None): \n",
    "    if estado == None:\n",
    "        dados.plot(color=cor,  edgecolor=cor)\n",
    "        plt.xticks(())\n",
    "        plt.yticks(())\n",
    "        plt.show()\n",
    "    else:\n",
    "        uf = estados[estados.name == estado]['value'].values[0]\n",
    "        a = dados[dados.uf_code == uf].plot(color=cor, edgecolor=cor)\n",
    "        plt.xticks(())\n",
    "        plt.yticks(())\n",
    "        plt.show()"
   ]
  },
  {
   "cell_type": "code",
   "execution_count": 292,
   "metadata": {},
   "outputs": [
    {
     "data": {
      "image/png": "[encoded data removed]",
      "text/plain": [
       "<Figure size 432x288 with 1 Axes>"
      ]
     },
     "metadata": {},
     "output_type": "display_data"
    }
   ],
   "source": [
    "estado = \"Paraná\"\n",
    "cor = \"grey\"\n",
    "plot_map(cor, estado)"
   ]
  },
  {
   "cell_type": "code",
   "execution_count": 295,
   "metadata": {},
   "outputs": [
    {
     "data": {
      "image/png": "[encoded data removed]",
      "text/plain": [
       "<Figure size 432x288 with 1 Axes>"
      ]
     },
     "metadata": {},
     "output_type": "display_data"
    }
   ],
   "source": [
    "cor = 'green'\n",
    "plot_map(cor)"
   ]
  }
 ],
 "metadata": {
  "kernelspec": {
   "display_name": "Python 3",
   "language": "python",
   "name": "python3"
  }
 },
 "nbformat": 4,
 "nbformat_minor": 5
}
