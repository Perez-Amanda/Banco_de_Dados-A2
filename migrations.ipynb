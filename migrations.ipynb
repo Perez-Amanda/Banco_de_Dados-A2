{
 "cells": [
  {
   "cell_type": "code",
   "execution_count": 4,
   "id": "e6cdcdb4",
   "metadata": {},
   "outputs": [
    {
     "name": "stdout",
     "output_type": "stream",
     "text": [
      "Note: you may need to restart the kernel to use updated packages.\n"
     ]
    }
   ],
   "source": [
    "pip install -U -q pymongo\n"
   ]
  },
  {
   "cell_type": "code",
   "execution_count": 1,
   "id": "a0894674",
   "metadata": {},
   "outputs": [],
   "source": [
    "import datetime\n",
    "import pprint\n",
    "\n",
    "import pymongo\n",
    "from pymongo import MongoClient"
   ]
  },
  {
   "cell_type": "code",
   "execution_count": 2,
   "id": "2e961393",
   "metadata": {},
   "outputs": [
    {
     "data": {
      "text/plain": [
       "['admin', 'bank', 'config', 'local']"
      ]
     },
     "execution_count": 2,
     "metadata": {},
     "output_type": "execute_result"
    }
   ],
   "source": [
    "#connect the database\n",
    "client = MongoClient('localhost', 27017)\n",
    "client.list_database_names()"
   ]
  },
  {
   "cell_type": "code",
   "execution_count": 6,
   "id": "7041dfad",
   "metadata": {},
   "outputs": [],
   "source": [
    "db = client.bank"
   ]
  },
  {
   "cell_type": "code",
   "execution_count": 17,
   "id": "4df50db3",
   "metadata": {},
   "outputs": [
    {
     "name": "stdout",
     "output_type": "stream",
     "text": [
      "['data', 'states']\n"
     ]
    }
   ],
   "source": [
    "#ours collections\n",
    "print(db.list_collection_names())\n",
    "#we want insert data of states with format { \"name\" : Nome_estado , \"valor\" : val}"
   ]
  },
  {
   "cell_type": "code",
   "execution_count": 41,
   "id": "849e2fac",
   "metadata": {},
   "outputs": [],
   "source": [
    "state_s = [{\"name\": \"Acre\",\"value\":12},{\"name\": \"Amazonas\",\"value\":13},{\"name\": \"Amapá\",\"value\":   16},{\"name\": \"Pará\",\n",
    "\"value\":   15},{\"name\": \"Rondônia \",\"value\":   11},{\"name\": \"Roraima\",\"value\":   14},{\"name\": \"Tocantins\",\"value\":   17}\n",
    ",{\"name\": \"Alagoas\",\"value\":   27},{\"name\": \"Bahia\",\"value\":   29},{\"name\": \"Ceará\",\"value\":   23},{\"name\": \"Maranhão\",\n",
    "\"value\":   21},{\"name\": \"Paraíba\",\"value\":   25},{\"name\": \"Pernambuco\",\"value\":   26},{\"name\": \"Piauí\",\"value\":   22},\n",
    "{\"name\": \"Rio Grande do Norte\",\"value\":   24},{\"name\": \"Sergipe\",\"value\":   28},{\"name\": \"Espírito Santo\",\"value\":   32}\n",
    ",{\"name\": \"Minas Gerais\",\"value\":   31},{\"name\": \"Rio de Janeiro\",\"value\":   33},{\"name\": \"São Paulo\",\"value\":   35}\n",
    ",{\"name\": \"Paraná\",\"value\":   41},{\"name\": \"Rio Grande do Sul\",\"value\":   43},{\"name\": \"Santa Catarina\",\"value\":   42}\n",
    ",{\"name\": \"Distrito Federal\",\"value\":   53},{\"name\": \"Goiás\",\"value\":   52},{\"name\": \"Mato Grosso\",\"value\":   51},\n",
    "{\"name\": \"Mato Grosso do Sul\",\"value\":   50}]"
   ]
  },
  {
   "cell_type": "code",
   "execution_count": 42,
   "id": "de5a837d",
   "metadata": {},
   "outputs": [
    {
     "name": "stdout",
     "output_type": "stream",
     "text": [
      "[]\n"
     ]
    }
   ],
   "source": [
    "#insert of states\n",
    "lista_of_ids =[]\n",
    "for state in range(len(state_s)):\n",
    "    if(db.states.find_one(state_s[state])): #verifica se o estado ja existe na nossa base de dados\n",
    "        pass\n",
    "    else:\n",
    "        _id = db.states.insert_one(state_s[state]).inserted_id #vai ficar inserindo varias vezes\n",
    "        index = {'id': _id, \"value\" : state_s[state][\"value\"]}\n",
    "        lista_of_ids.append(index)\n",
    "print(lista_of_ids)"
   ]
  },
  {
   "cell_type": "code",
   "execution_count": 45,
   "id": "e7079316",
   "metadata": {},
   "outputs": [],
   "source": [
    "import json\n",
    "\n",
    "def read_json(arq_json):\n",
    "    with open(arq_json, 'r', encoding='utf8') as f:\n",
    "        return json.load(f)"
   ]
  },
  {
   "cell_type": "code",
   "execution_count": 46,
   "id": "91750c9b",
   "metadata": {},
   "outputs": [],
   "source": [
    "data = read_json('data_brazilian.json')"
   ]
  },
  {
   "cell_type": "code",
   "execution_count": 50,
   "id": "aa60da99",
   "metadata": {},
   "outputs": [
    {
     "name": "stdout",
     "output_type": "stream",
     "text": [
      "dict_keys(['type', 'features'])\n"
     ]
    }
   ],
   "source": [
    "print(data.keys())"
   ]
  },
  {
   "cell_type": "code",
   "execution_count": 60,
   "id": "ac68214e",
   "metadata": {},
   "outputs": [],
   "source": [
    "#print(data['features'][50])\n",
    "for i in range(len(data['features'])):\n",
    "    if(db.data.find_one(data['features'][i])): #verifica se o estado ja existe na nossa base de dados\n",
    "        pass\n",
    "    else:\n",
    "        _id = db.data.insert_one(data['features'][i]).inserted_id #vai ficar inserindo varias vezes\n",
    "       "
   ]
  },
  {
   "cell_type": "code",
   "execution_count": null,
   "id": "be9f5be5",
   "metadata": {},
   "outputs": [],
   "source": []
  }
 ],
 "metadata": {
  "kernelspec": {
   "display_name": "Python 3 (ipykernel)",
   "language": "python",
   "name": "python3"
  },
  "language_info": {
   "codemirror_mode": {
    "name": "ipython",
    "version": 3
   },
   "file_extension": ".py",
   "mimetype": "text/x-python",
   "name": "python",
   "nbconvert_exporter": "python",
   "pygments_lexer": "ipython3",
   "version": "3.9.7"
  }
 },
 "nbformat": 4,
 "nbformat_minor": 5
}
